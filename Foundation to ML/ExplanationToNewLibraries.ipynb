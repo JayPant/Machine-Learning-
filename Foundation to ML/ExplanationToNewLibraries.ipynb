{
 "cells": [
  {
   "cell_type": "markdown",
   "id": "6efb9b70",
   "metadata": {},
   "source": [
    "# Libraries Used in `foundation.ipynb`\n",
    "\n",
    "This notebook utilizes several foundational Python libraries for data science and machine learning. Below are detailed notes on each, including their primary uses and example code snippets.\n",
    "\n",
    "## 1. NumPy\n",
    "\n",
    "**NumPy** (Numerical Python) is the core library for numerical computing in Python. It provides support for large, multi-dimensional arrays and matrices, along with a collection of mathematical functions to operate on these arrays.\n",
    "\n",
    "**Key Features:**\n",
    "- Efficient array computations\n",
    "- Mathematical, logical, shape manipulation, sorting, and statistical operations\n",
    "\n",
    "**Example:**\n",
    "\n"
   ]
  },
  {
   "cell_type": "code",
   "execution_count": 1,
   "id": "55b66495",
   "metadata": {},
   "outputs": [
    {
     "name": "stdout",
     "output_type": "stream",
     "text": [
      "Mean: 3.0\n"
     ]
    }
   ],
   "source": [
    "\n",
    "import numpy as np\n",
    "\n",
    "# Create a 1D array\n",
    "arr = np.array([1, 2, 3, 4, 5])\n",
    "\n",
    "# Compute the mean\n",
    "mean = np.mean(arr)\n",
    "print(\"Mean:\", mean)\n",
    "\n"
   ]
  },
  {
   "cell_type": "markdown",
   "id": "e51a8f63",
   "metadata": {},
   "source": [
    "## 2. Pandas\n",
    "\n",
    "**Pandas** is a powerful library for data manipulation and analysis. It introduces two primary data structures: `Series` (1D) and `DataFrame` (2D), making it easy to handle structured data.\n",
    "\n",
    "**Key Features:**\n",
    "- Data cleaning, filtering, and transformation\n",
    "- Handling missing data\n",
    "- Grouping and aggregation\n",
    "\n",
    "**Example:**\n",
    "\n",
    "\n"
   ]
  },
  {
   "cell_type": "code",
   "execution_count": 3,
   "id": "43e5ca5b",
   "metadata": {},
   "outputs": [
    {
     "name": "stdout",
     "output_type": "stream",
     "text": [
      "        Age\n",
      "count   3.0\n",
      "mean   30.0\n",
      "std     5.0\n",
      "min    25.0\n",
      "25%    27.5\n",
      "50%    30.0\n",
      "75%    32.5\n",
      "max    35.0\n"
     ]
    }
   ],
   "source": [
    "\n",
    "import pandas as pd\n",
    "\n",
    "# Create a DataFrame\n",
    "df = pd.DataFrame({\n",
    "    'Name': ['Alice', 'Bob', 'Charlie'],\n",
    "    'Age': [25, 30, 35]\n",
    "})\n",
    "\n",
    "# Display summary statistics\n",
    "print(df.describe())"
   ]
  },
  {
   "cell_type": "markdown",
   "id": "d50eedb2",
   "metadata": {},
   "source": [
    "\n",
    "## 3. Matplotlib\n",
    "\n",
    "**Matplotlib** is the standard Python library for creating static, animated, and interactive visualizations.\n",
    "\n",
    "**Key Features:**\n",
    "- Line plots, bar charts, histograms, scatter plots, etc.\n",
    "- Customizable plots\n",
    "\n",
    "**Example:**\n",
    "\n"
   ]
  },
  {
   "cell_type": "code",
   "execution_count": 4,
   "id": "e0fa1343",
   "metadata": {},
   "outputs": [
    {
     "data": {
      "image/png": "[encoded data removed]",
      "text/plain": [
       "<Figure size 640x480 with 1 Axes>"
      ]
     },
     "metadata": {},
     "output_type": "display_data"
    }
   ],
   "source": [
    "import matplotlib.pyplot as plt\n",
    "\n",
    "# Simple line plot\n",
    "plt.plot([1, 2, 3], [4, 5, 6])\n",
    "plt.xlabel('X-axis')\n",
    "plt.ylabel('Y-axis')\n",
    "plt.title('Sample Plot')\n",
    "plt.show()\n"
   ]
  },
  {
   "cell_type": "markdown",
   "id": "9218a029",
   "metadata": {},
   "source": [
    "\n",
    "## 4. Machine Learning Libraries\n",
    "\n",
    "Several libraries are commonly used for machine learning tasks:\n",
    "\n",
    "### a. Scikit-learn (`sklearn`)\n",
    "\n",
    "A comprehensive library for classical machine learning algorithms, including classification, regression, clustering, and preprocessing.\n",
    "\n",
    "**Example:**\n",
    "\n"
   ]
  },
  {
   "cell_type": "code",
   "execution_count": 5,
   "id": "2ce4762f",
   "metadata": {},
   "outputs": [
    {
     "name": "stdout",
     "output_type": "stream",
     "text": [
      "Coefficient: [2.]\n"
     ]
    }
   ],
   "source": [
    "from sklearn.linear_model import LinearRegression\n",
    "\n",
    "# Example data\n",
    "X = [[1], [2], [3], [4]]\n",
    "y = [2, 4, 6, 8]\n",
    "\n",
    "# Fit a linear regression model\n",
    "model = LinearRegression()\n",
    "model.fit(X, y)\n",
    "\n",
    "print(\"Coefficient:\", model.coef_)\n",
    "\n"
   ]
  },
  {
   "cell_type": "markdown",
   "id": "86a0ec48",
   "metadata": {},
   "source": [
    "\n",
    "### b. SciPy\n",
    "\n",
    "**SciPy** builds on NumPy and provides additional utilities for scientific and technical computing, including statistics, optimization, and signal processing.\n",
    "\n",
    "**Example:**\n",
    "\n"
   ]
  },
  {
   "cell_type": "code",
   "execution_count": 6,
   "id": "c6c2bb9a",
   "metadata": {},
   "outputs": [
    {
     "name": "stdout",
     "output_type": "stream",
     "text": [
      "Pearson correlation: 1.0\n"
     ]
    }
   ],
   "source": [
    "from scipy.stats import pearsonr\n",
    "\n",
    "x = [1, 2, 3, 4]\n",
    "y = [2, 4, 6, 8]\n",
    "\n",
    "corr, _ = pearsonr(x, y)\n",
    "print(\"Pearson correlation:\", corr)"
   ]
  },
  {
   "cell_type": "markdown",
   "id": "6f399f2b",
   "metadata": {},
   "source": [
    "## Summary Table\n",
    "\n",
    "| Library      | Purpose                          | Typical Use Cases                |\n",
    "|--------------|----------------------------------|----------------------------------|\n",
    "| NumPy        | Numerical computing, arrays      | Math operations, array handling  |\n",
    "| Pandas       | Data manipulation & analysis     | Data cleaning, DataFrames        |\n",
    "| Matplotlib   | Data visualization               | Plotting charts and graphs       |\n",
    "| Scikit-learn | Machine learning algorithms      | Classification, regression       |\n",
    "| SciPy        | Scientific computing utilities   | Statistics, optimization         |\n",
    "\n",
    "---\n",
    "\n",
    "These libraries form the backbone of most data science and machine learning workflows in Python."
   ]
  },
  {
   "cell_type": "markdown",
   "id": "f2e61da4",
   "metadata": {},
   "source": [
    "# Pearson Correlation in `scipy.stats`\n",
    "\n",
    "The **Pearson correlation coefficient** measures the linear relationship between two continuous variables. It ranges from -1 (perfect negative correlation) to +1 (perfect positive correlation), with 0 indicating no linear correlation.\n",
    "\n",
    "## Formula\n",
    "\n",
    "Given two variables, $X$ and $Y$, with $n$ paired observations:\n",
    "\n",
    "$$\n",
    "r = \\frac{\\sum_{i=1}^{n} (X_i - \\bar{X})(Y_i - \\bar{Y})}{\\sqrt{\\sum_{i=1}^{n} (X_i - \\bar{X})^2} \\sqrt{\\sum_{i=1}^{n} (Y_i - \\bar{Y})^2}}\n",
    "$$\n",
    "\n",
    "Where:\n",
    "- $r$ = Pearson correlation coefficient\n",
    "- $X_i$, $Y_i$ = individual sample points\n",
    "- $\\bar{X}$, $\\bar{Y}$ = means of $X$ and $Y$\n",
    "\n",
    "## Using `scipy.stats.pearsonr`\n",
    "\n",
    "In Python, you can compute Pearson's $r$ using `scipy.stats.pearsonr`:\n",
    "\n"
   ]
  },
  {
   "cell_type": "code",
   "execution_count": 1,
   "id": "0d15d81b",
   "metadata": {},
   "outputs": [
    {
     "name": "stdout",
     "output_type": "stream",
     "text": [
      "Pearson correlation coefficient: 1.0\n",
      "P-value: 0.0\n"
     ]
    }
   ],
   "source": [
    "import numpy as np\n",
    "from scipy.stats import pearsonr\n",
    "\n",
    "# Example data\n",
    "x = np.array([1, 2, 3, 4, 5])\n",
    "y = np.array([2, 4, 6, 8, 10])\n",
    "\n",
    "# Calculate Pearson correlation\n",
    "corr_coef, p_value = pearsonr(x, y)\n",
    "\n",
    "print(f\"Pearson correlation coefficient: {corr_coef}\")\n",
    "print(f\"P-value: {p_value}\")"
   ]
  },
  {
   "cell_type": "markdown",
   "id": "8325da52",
   "metadata": {},
   "source": [
    "## Chi-Square Test in `scipy.stats`\n",
    "\n",
    "The **Chi-Square test** is a statistical method used to determine if there is a significant association between two categorical variables. It compares the observed frequencies in each category to the frequencies expected if there were no association.\n",
    "\n",
    "### Types of Chi-Square Tests\n",
    "\n",
    "- **Chi-Square Test of Independence:** Tests if two categorical variables are independent.\n",
    "- **Chi-Square Goodness-of-Fit Test:** Tests if a sample matches an expected distribution.\n",
    "\n",
    "### Formula\n",
    "\n",
    "For the test of independence, the statistic is:\n",
    "\n",
    "$$\n",
    "\\chi^2 = \\sum \\frac{(O_i - E_i)^2}{E_i}\n",
    "$$\n",
    "\n",
    "Where:\n",
    "- $O_i$ = Observed frequency\n",
    "- $E_i$ = Expected frequency\n",
    "\n",
    "### Using `scipy.stats.chi2_contingency`\n",
    "\n",
    "In Python, you can perform the Chi-Square test of independence using `scipy.stats.chi2_contingency`:\n",
    "\n",
    "```python\n",
    "from scipy.stats import chi2_contingency\n",
    "\n",
    "# Example contingency table\n",
    "table = [[10, 20, 30],\n",
    "         [6,  9,  17]]\n",
    "\n",
    "chi2, p, dof, expected = chi2_contingency(table)\n",
    "\n",
    "print(f\"Chi-square statistic: {chi2}\")\n",
    "print(f\"P-value: {p}\")\n",
    "print(f\"Degrees of freedom: {dof}\")\n",
    "print(\"Expected frequencies:\\n\", expected)\n",
    "```\n",
    "\n",
    "- **Chi-square statistic:** Measures the difference between observed and expected frequencies.\n",
    "- **P-value:** Probability of observing the data if the null hypothesis is true.\n",
    "- **Degrees of freedom:** Number of independent values in the calculation.\n",
    "- **Expected frequencies:** Theoretical frequencies if variables are independent.\n",
    "\n",
    "A low p-value (typically < 0.05) suggests a significant association between the variables."
   ]
  }
 ],
 "metadata": {
  "kernelspec": {
   "display_name": "Python 3",
   "language": "python",
   "name": "python3"
  },
  "language_info": {
   "codemirror_mode": {
    "name": "ipython",
    "version": 3
   },
   "file_extension": ".py",
   "mimetype": "text/x-python",
   "name": "python",
   "nbconvert_exporter": "python",
   "pygments_lexer": "ipython3",
   "version": "3.9.13"
  }
 },
 "nbformat": 4,
 "nbformat_minor": 5
}
